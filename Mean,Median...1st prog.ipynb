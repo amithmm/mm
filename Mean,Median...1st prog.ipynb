{
 "cells": [
  {
   "cell_type": "code",
   "execution_count": 7,
   "id": "fea5ce2a",
   "metadata": {},
   "outputs": [
    {
     "name": "stdout",
     "output_type": "stream",
     "text": [
      "mean 35.0\n"
     ]
    }
   ],
   "source": [
    "def mean(list):\n",
    "    sum=0\n",
    "    for i in list:\n",
    "        sum+=i\n",
    "    mean=sum/len(list)\n",
    "    return mean\n",
    "list=(10,20,30,40,50,60)\n",
    "print(\"mean\",mean(list))"
   ]
  },
  {
   "cell_type": "code",
   "execution_count": 8,
   "id": "12fe3306",
   "metadata": {},
   "outputs": [
    {
     "name": "stdout",
     "output_type": "stream",
     "text": [
      "40\n"
     ]
    }
   ],
   "source": [
    "l1=(10,20,30,40,50,60,70)\n",
    "i=int(len(l1)/2)\n",
    "\n",
    "if i%2==0:\n",
    "    res=(l1[i]+l1[i+1]/2)\n",
    "else:\n",
    "    res=l1[i]\n",
    "print(res)"
   ]
  },
  {
   "cell_type": "code",
   "execution_count": 9,
   "id": "d69889fb",
   "metadata": {},
   "outputs": [
    {
     "name": "stdout",
     "output_type": "stream",
     "text": [
      "20\n"
     ]
    }
   ],
   "source": [
    "l1=(10,20,20,30,40,50,60,70)\n",
    "m={}\n",
    "for i in l1:\n",
    "    if i in m:\n",
    "        m[i]=m[i]+1\n",
    "    else:\n",
    "        m[i]=1\n",
    "        \n",
    "max = 0   \n",
    "for i in m:\n",
    "    \n",
    "    if(m[i]>max):\n",
    "        max=m[i]\n",
    "        ans=i\n",
    "print(ans)\n",
    "    "
   ]
  },
  {
   "cell_type": "code",
   "execution_count": 10,
   "id": "20731dbf",
   "metadata": {},
   "outputs": [
    {
     "name": "stdout",
     "output_type": "stream",
     "text": [
      "94.53125\n"
     ]
    }
   ],
   "source": [
    "l1=(10,20,20,30,40,50,60,70)\n",
    "def var(l):\n",
    "    ans=mean(l)\n",
    "    sum1=0\n",
    "    for i in l1:\n",
    "        sum1+=(ans-i)**2\n",
    "        return sum1/len(l1)\n",
    "print(var(l1))"
   ]
  },
  {
   "cell_type": "code",
   "execution_count": 11,
   "id": "ccd32778",
   "metadata": {},
   "outputs": [
    {
     "name": "stdout",
     "output_type": "stream",
     "text": [
      "9.722718241315029\n"
     ]
    }
   ],
   "source": [
    "def sd(l):\n",
    "    temp=var(l)\n",
    "    ans=temp**0.5\n",
    "    return ans\n",
    "print(sd(l1))"
   ]
  },
  {
   "cell_type": "code",
   "execution_count": 12,
   "id": "4617bf97",
   "metadata": {},
   "outputs": [
    {
     "name": "stdout",
     "output_type": "stream",
     "text": [
      "0.0\n",
      "0.16666666666666666\n",
      "0.3333333333333333\n",
      "0.5\n",
      "0.6666666666666666\n",
      "0.8333333333333334\n",
      "1.0\n"
     ]
    }
   ],
   "source": [
    "def norm(l):\n",
    "    min=l1[0]\n",
    "    max=l1[0]\n",
    "    for i in l:\n",
    "        if(i>max):\n",
    "            max=i\n",
    "        elif(i<min):\n",
    "            min=i\n",
    "            \n",
    "            \n",
    "    for i in l:\n",
    "        print((i-min)/(max-min))\n",
    "        \n",
    "l=(10,20,30,40,50,60,70)\n",
    "norm(l)"
   ]
  },
  {
   "cell_type": "code",
   "execution_count": 13,
   "id": "aaaa7ce4",
   "metadata": {},
   "outputs": [
    {
     "name": "stdout",
     "output_type": "stream",
     "text": [
      "-2.82842712474619\n",
      "-1.8856180831641267\n",
      "-0.9428090415820634\n",
      "0.0\n",
      "0.9428090415820634\n",
      "1.8856180831641267\n",
      "2.82842712474619\n"
     ]
    }
   ],
   "source": [
    "def std(l):\n",
    "    for i in l:\n",
    "        print((i-mean(l))/sd(l))\n",
    "l=(10,20,30,40,50,60,70)\n",
    "std(l)"
   ]
  },
  {
   "cell_type": "code",
   "execution_count": null,
   "id": "293aa8c9",
   "metadata": {},
   "outputs": [],
   "source": []
  }
 ],
 "metadata": {
  "kernelspec": {
   "display_name": "Python 3 (ipykernel)",
   "language": "python",
   "name": "python3"
  },
  "language_info": {
   "codemirror_mode": {
    "name": "ipython",
    "version": 3
   },
   "file_extension": ".py",
   "mimetype": "text/x-python",
   "name": "python",
   "nbconvert_exporter": "python",
   "pygments_lexer": "ipython3",
   "version": "3.9.7"
  }
 },
 "nbformat": 4,
 "nbformat_minor": 5
}
