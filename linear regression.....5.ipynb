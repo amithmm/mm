{
 "cells": [
  {
   "cell_type": "code",
   "execution_count": 9,
   "id": "606ae13d",
   "metadata": {},
   "outputs": [],
   "source": [
    "import pandas as pd\n",
    "import numpy as np\n",
    "import statistics as st\n",
    "import matplotlib.pyplot as plt\n"
   ]
  },
  {
   "cell_type": "code",
   "execution_count": 10,
   "id": "4e6df938",
   "metadata": {},
   "outputs": [],
   "source": [
    "\n",
    "data = pd.read_csv('Food-Truck(For Linear Regression Program).csv')\n",
    "X = data['X'].values\n"
   ]
  },
  {
   "cell_type": "code",
   "execution_count": 11,
   "id": "6ab621e4",
   "metadata": {},
   "outputs": [],
   "source": [
    "y = data['Y'].values"
   ]
  },
  {
   "cell_type": "code",
   "execution_count": 12,
   "id": "6f23bf77",
   "metadata": {},
   "outputs": [],
   "source": [
    "mx = np.mean(X)\n",
    "my = np.mean(y)\n",
    "sx = st.stdev(X)\n",
    "sy = st.stdev(y)\n"
   ]
  },
  {
   "cell_type": "code",
   "execution_count": 13,
   "id": "7a3a1b6d",
   "metadata": {},
   "outputs": [],
   "source": [
    "r = np.corrcoef(X, y)[0][1]\n",
    "m = r * (sy/sx)\n",
    "c = my - (m * mx)"
   ]
  },
  {
   "cell_type": "code",
   "execution_count": 14,
   "id": "50237577",
   "metadata": {},
   "outputs": [],
   "source": [
    "y_pred = (m * X) + c\n"
   ]
  },
  {
   "cell_type": "code",
   "execution_count": 15,
   "id": "94473974",
   "metadata": {},
   "outputs": [
    {
     "name": "stdout",
     "output_type": "stream",
     "text": [
      "Sum Squared Error -->  868.5324469391846\n"
     ]
    }
   ],
   "source": [
    "error = (y - y_pred)**2\n",
    "sse = sum(error)\n",
    "print(\"Sum Squared Error --> \", sse)"
   ]
  },
  {
   "cell_type": "code",
   "execution_count": 16,
   "id": "e940b840",
   "metadata": {},
   "outputs": [
    {
     "name": "stdout",
     "output_type": "stream",
     "text": [
      "\n",
      "Mean Squared Error -->  8.953942751950358\n"
     ]
    }
   ],
   "source": [
    "mse = sse/len(y)\n",
    "print(\"\\nMean Squared Error --> \", mse)"
   ]
  },
  {
   "cell_type": "code",
   "execution_count": 17,
   "id": "140774a6",
   "metadata": {},
   "outputs": [
    {
     "name": "stdout",
     "output_type": "stream",
     "text": [
      "\n",
      "Root Mean Squared Error -->  2.9923139460876023\n"
     ]
    }
   ],
   "source": [
    "rmse = (mse)**0.5\n",
    "print(\"\\nRoot Mean Squared Error --> \", rmse)"
   ]
  },
  {
   "cell_type": "code",
   "execution_count": 16,
   "id": "8c9c2dde",
   "metadata": {},
   "outputs": [
    {
     "name": "stdout",
     "output_type": "stream",
     "text": [
      "\n",
      "Sum of squares total -->  2914.8470516572247\n"
     ]
    }
   ],
   "source": [
    "er1 = (y - my)**2\n",
    "sst = sum(er1)\n",
    "print(\"\\nSum of squares total --> \", sst)"
   ]
  },
  {
   "cell_type": "code",
   "execution_count": 17,
   "id": "b938014a",
   "metadata": {},
   "outputs": [
    {
     "name": "stdout",
     "output_type": "stream",
     "text": [
      "\n",
      "Sum of squares regression -->  2046.3146047180405\n"
     ]
    }
   ],
   "source": [
    "pred_mean = np.mean(y_pred)\n",
    "er2 = (y_pred - pred_mean)**2\n",
    "ssr = sum(er2)\n",
    "print(\"\\nSum of squares regression --> \", ssr)"
   ]
  },
  {
   "cell_type": "code",
   "execution_count": 18,
   "id": "82a21b87",
   "metadata": {},
   "outputs": [
    {
     "name": "stdout",
     "output_type": "stream",
     "text": [
      "\n",
      "R2 Score -->  0.7020315537841398\n"
     ]
    }
   ],
   "source": [
    "r_score = ssr/sst\n",
    "print(\"\\nR2 Score --> \", r_score)"
   ]
  },
  {
   "cell_type": "code",
   "execution_count": 19,
   "id": "76c40cea",
   "metadata": {},
   "outputs": [
    {
     "name": "stdout",
     "output_type": "stream",
     "text": [
      "\n",
      " Plotting Graph of Actual vs Predicted \n",
      "\n"
     ]
    },
    {
     "data": {
      "image/png": "[encoded data removed]",
      "text/plain": [
       "<Figure size 432x288 with 1 Axes>"
      ]
     },
     "metadata": {
      "needs_background": "light"
     },
     "output_type": "display_data"
    }
   ],
   "source": [
    "print(\"\\n Plotting Graph of Actual vs Predicted \\n\")\n",
    "plt.scatter(X, y, color='g', s=30)\n",
    "plt.plot(X, y_pred, color='r')\n",
    "plt.xlabel('X')\n",
    "plt.ylabel('Y')\n",
    "plt.show()\n"
   ]
  },
  {
   "cell_type": "code",
   "execution_count": null,
   "id": "62440f03",
   "metadata": {},
   "outputs": [],
   "source": []
  }
 ],
 "metadata": {
  "kernelspec": {
   "display_name": "Python 3 (ipykernel)",
   "language": "python",
   "name": "python3"
  },
  "language_info": {
   "codemirror_mode": {
    "name": "ipython",
    "version": 3
   },
   "file_extension": ".py",
   "mimetype": "text/x-python",
   "name": "python",
   "nbconvert_exporter": "python",
   "pygments_lexer": "ipython3",
   "version": "3.9.7"
  }
 },
 "nbformat": 4,
 "nbformat_minor": 5
}
